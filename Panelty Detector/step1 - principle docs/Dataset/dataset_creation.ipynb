{
 "cells": [
  {
   "cell_type": "code",
   "execution_count": 3,
   "id": "ea81b538",
   "metadata": {},
   "outputs": [
    {
     "name": "stdout",
     "output_type": "stream",
     "text": [
      "Combined CSV saved as all_parts_combined.csv with part_name as first column\n"
     ]
    }
   ],
   "source": [
    "import os\n",
    "import pandas as pd\n",
    "\n",
    "# Folder containing the parts\n",
    "folder = \"PartsOfMotorTrafficAct\"\n",
    "\n",
    "# List all CSV files in the folder, sorted by part number\n",
    "csv_files = sorted(\n",
    "    [f for f in os.listdir(folder) if f.endswith('.csv')],\n",
    "    key=lambda x: int(''.join(filter(str.isdigit, x)))\n",
    ")\n",
    "\n",
    "# Read and concatenate all CSVs, adding part_name column\n",
    "dfs = []\n",
    "for file in csv_files:\n",
    "    path = os.path.join(folder, file)\n",
    "    df = pd.read_csv(path, dtype=str)\n",
    "    # Add part_name column (e.g., \"part1\" from \"part1.csv\")\n",
    "    part_name = os.path.splitext(file)[0]\n",
    "    df[\"part_name\"] = part_name\n",
    "    dfs.append(df)\n",
    "\n",
    "combined_df = pd.concat(dfs, ignore_index=True)\n",
    "\n",
    "# Move part_name to the first column\n",
    "cols = combined_df.columns.tolist()\n",
    "cols.insert(0, cols.pop(cols.index(\"part_name\")))\n",
    "combined_df = combined_df[cols]\n",
    "\n",
    "# Save to a new CSV file\n",
    "combined_df.to_csv(\"all_parts_combined.csv\", index=False)\n",
    "print(\"Combined CSV saved as all_parts_combined.csv with part_name as first column\")"
   ]
  }
 ],
 "metadata": {
  "kernelspec": {
   "display_name": "Python 3",
   "language": "python",
   "name": "python3"
  },
  "language_info": {
   "codemirror_mode": {
    "name": "ipython",
    "version": 3
   },
   "file_extension": ".py",
   "mimetype": "text/x-python",
   "name": "python",
   "nbconvert_exporter": "python",
   "pygments_lexer": "ipython3",
   "version": "3.10.0"
  }
 },
 "nbformat": 4,
 "nbformat_minor": 5
}
